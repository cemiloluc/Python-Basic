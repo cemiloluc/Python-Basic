{
 "cells": [
  {
   "attachments": {},
   "cell_type": "markdown",
   "metadata": {},
   "source": [
    "# Arithmetic Operations"
   ]
  },
  {
   "cell_type": "code",
   "execution_count": 1,
   "metadata": {},
   "outputs": [
    {
     "data": {
      "text/plain": [
       "10.0"
      ]
     },
     "execution_count": 1,
     "metadata": {},
     "output_type": "execute_result"
    }
   ],
   "source": [
    "print(50/5) # bolme islemi sonucu her zaman float doner"
   ]
  },
  {
   "cell_type": "code",
   "execution_count": 8,
   "metadata": {},
   "outputs": [
    {
     "name": "stdout",
     "output_type": "stream",
     "text": [
      "6\n",
      "33\n"
     ]
    }
   ],
   "source": [
    "print(20//3)  # sonucu ondaliksiz verir\n",
    "print(100//3)"
   ]
  },
  {
   "cell_type": "code",
   "execution_count": 6,
   "metadata": {},
   "outputs": [
    {
     "name": "stdout",
     "output_type": "stream",
     "text": [
      "2\n"
     ]
    }
   ],
   "source": [
    "print(20%3) # bolme isleminden kalani verir"
   ]
  },
  {
   "cell_type": "code",
   "execution_count": 11,
   "metadata": {},
   "outputs": [
    {
     "name": "stdout",
     "output_type": "stream",
     "text": [
      "<class 'float'>\n",
      "<class 'float'>\n"
     ]
    }
   ],
   "source": [
    "print(type(24.5 % 3))\n",
    "print(type(24.0 % 3))  # float bir veri isleme girerse type hep float kalir"
   ]
  },
  {
   "cell_type": "code",
   "execution_count": 13,
   "metadata": {},
   "outputs": [
    {
     "name": "stdout",
     "output_type": "stream",
     "text": [
      "216\n"
     ]
    }
   ],
   "source": [
    "print(6 ** 3) # ust almak icin"
   ]
  },
  {
   "cell_type": "code",
   "execution_count": 15,
   "metadata": {},
   "outputs": [
    {
     "name": "stdout",
     "output_type": "stream",
     "text": [
      "8.0\n"
     ]
    }
   ],
   "source": [
    "print(64 ** (1/2)) # karekok almak icin"
   ]
  },
  {
   "cell_type": "code",
   "execution_count": null,
   "metadata": {},
   "outputs": [],
   "source": [
    "print(8 ** (1/3)) # küp kök için"
   ]
  },
  {
   "cell_type": "code",
   "execution_count": 18,
   "metadata": {},
   "outputs": [
    {
     "name": "stdout",
     "output_type": "stream",
     "text": [
      "3.9999999999999996\n"
     ]
    }
   ],
   "source": [
    "print(64 ** (1/3)) # cevap 4 fakat python boyle gosteriyor"
   ]
  },
  {
   "cell_type": "code",
   "execution_count": 21,
   "metadata": {},
   "outputs": [
    {
     "name": "stdout",
     "output_type": "stream",
     "text": [
      "121.0\n"
     ]
    }
   ],
   "source": [
    "x = (4 + 7) ** (4 ** (1 * 2 / 2) / 2)\n",
    "print(x)"
   ]
  },
  {
   "cell_type": "code",
   "execution_count": 29,
   "metadata": {},
   "outputs": [
    {
     "name": "stdout",
     "output_type": "stream",
     "text": [
      "153.86\n"
     ]
    }
   ],
   "source": [
    "# yaricapi 7 olan bir dairenin alanini bulan python kodunu bulunuz\n",
    "pi = 3.14\n",
    "yaricap = 7\n",
    "print( pi * 7**2)"
   ]
  },
  {
   "cell_type": "code",
   "execution_count": 91,
   "metadata": {},
   "outputs": [
    {
     "name": "stdout",
     "output_type": "stream",
     "text": [
      "7\n",
      "12\n"
     ]
    }
   ],
   "source": [
    "y = 2\n",
    "\n",
    "y = y + 5\n",
    "print(y)\n",
    "\n",
    "y += 5\n",
    "print(y)"
   ]
  },
  {
   "cell_type": "code",
   "execution_count": 102,
   "metadata": {},
   "outputs": [
    {
     "name": "stdout",
     "output_type": "stream",
     "text": [
      "5.0\n"
     ]
    }
   ],
   "source": [
    "z = 15\n",
    "z /= 3\n",
    "print(z)"
   ]
  },
  {
   "cell_type": "code",
   "execution_count": 107,
   "metadata": {},
   "outputs": [
    {
     "name": "stdout",
     "output_type": "stream",
     "text": [
      "4\n"
     ]
    }
   ],
   "source": [
    "w = 2\n",
    "w **= 2   # w = w**2\n",
    "print(w)"
   ]
  },
  {
   "cell_type": "code",
   "execution_count": 110,
   "metadata": {},
   "outputs": [
    {
     "name": "stdout",
     "output_type": "stream",
     "text": [
      "13.0\n"
     ]
    }
   ],
   "source": [
    "# bir kenari 5 diger kenari 12 olan dik ucgenin hipotenusu kactir?\n",
    "kisaKenar = 5\n",
    "uzunKenar = 12\n",
    "hipotenus = (kisaKenar**2 + uzunKenar**2) ** (1/2)\n",
    "print(hipotenus)"
   ]
  },
  {
   "cell_type": "code",
   "execution_count": 119,
   "metadata": {},
   "outputs": [
    {
     "name": "stdout",
     "output_type": "stream",
     "text": [
      "3\n",
      "4\n",
      "<class 'str'>\n",
      "<class 'str'>\n",
      "<class 'int'>\n",
      "<class 'int'>\n",
      "5.0\n",
      "<class 'float'>\n"
     ]
    }
   ],
   "source": [
    "kenar1 = input(\"dik ucgenin kisa kenarini giriniz\") # default olarak girdileri str olarak alir\n",
    "kenar2 = input(\"dik ucgenin uzun kenarini giriniz\")\n",
    "\n",
    "print(kenar1)\n",
    "print(kenar2)\n",
    "\n",
    "print(type(kenar1))\n",
    "print(type(kenar2))\n",
    "\n",
    "kenar1 = int(kenar1)\n",
    "kenar2 = int(kenar2)\n",
    "\n",
    "print(type(kenar1))\n",
    "print(type(kenar2))\n",
    "\n",
    "hipo = (kenar1**2 + kenar2**2) ** (1/2)\n",
    "print(hipo)\n",
    "print(type(hipo))"
   ]
  },
  {
   "cell_type": "code",
   "execution_count": 122,
   "metadata": {},
   "outputs": [
    {
     "name": "stdout",
     "output_type": "stream",
     "text": [
      "565\n"
     ]
    }
   ],
   "source": [
    "sayi = int(input(\"bir sayi giriniz\"))\n",
    "print(sayi)"
   ]
  },
  {
   "attachments": {},
   "cell_type": "markdown",
   "metadata": {},
   "source": [
    "## print() function"
   ]
  },
  {
   "cell_type": "code",
   "execution_count": 127,
   "metadata": {},
   "outputs": [
    {
     "name": "stdout",
     "output_type": "stream",
     "text": [
      "hello my world 35 29\n",
      "hellomy world3529\n",
      "hello*my world*35*29\n",
      "hello\n",
      "my world\n",
      "35\n",
      "29\n"
     ]
    }
   ],
   "source": [
    "print(\"hello\", \"my world\", 35, 12+17)\n",
    "\n",
    "print(\"hello\", \"my world\", 35, 12+17, sep=\"\")\n",
    "print(\"hello\", \"my world\", 35, 12+17, sep=\"*\")\n",
    "\n",
    "print(\"hello\", \"my world\", 35, 12+17, sep=\"\\n\")"
   ]
  },
  {
   "cell_type": "code",
   "execution_count": 2,
   "metadata": {},
   "outputs": [
    {
     "name": "stdout",
     "output_type": "stream",
     "text": [
      "hello world\n",
      "35\n",
      "hello world--35\n"
     ]
    }
   ],
   "source": [
    "print(\"hello world\") # end parametresinin default degeri (\\n)dir.\n",
    "print(35)\n",
    "\n",
    "print(\"hello world\", end=\"--\")\n",
    "print(35)"
   ]
  }
 ],
 "metadata": {
  "kernelspec": {
   "display_name": "Python 3",
   "language": "python",
   "name": "python3"
  },
  "language_info": {
   "codemirror_mode": {
    "name": "ipython",
    "version": 3
   },
   "file_extension": ".py",
   "mimetype": "text/x-python",
   "name": "python",
   "nbconvert_exporter": "python",
   "pygments_lexer": "ipython3",
   "version": "3.11.3"
  },
  "orig_nbformat": 4
 },
 "nbformat": 4,
 "nbformat_minor": 2
}
