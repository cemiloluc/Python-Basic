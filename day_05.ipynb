{
 "cells": [
  {
   "attachments": {},
   "cell_type": "markdown",
   "metadata": {},
   "source": [
    "## Logic Expressions"
   ]
  },
  {
   "cell_type": "code",
   "execution_count": null,
   "metadata": {},
   "outputs": [],
   "source": [
    "# islem Onceliği\n",
    "# 1 - not  -> islem sonucu daima True veya False tur.\n",
    "# 2 - and\n",
    "# 3 - or"
   ]
  },
  {
   "attachments": {},
   "cell_type": "markdown",
   "metadata": {},
   "source": [
    "### not"
   ]
  },
  {
   "cell_type": "code",
   "execution_count": 4,
   "metadata": {},
   "outputs": [
    {
     "name": "stdout",
     "output_type": "stream",
     "text": [
      "False\n"
     ]
    }
   ],
   "source": [
    "print(not(\"not durumu tersine cevirir\"))"
   ]
  },
  {
   "attachments": {},
   "cell_type": "markdown",
   "metadata": {},
   "source": [
    "### and"
   ]
  },
  {
   "cell_type": "code",
   "execution_count": 7,
   "metadata": {},
   "outputs": [
    {
     "name": "stdout",
     "output_type": "stream",
     "text": [
      "9\n",
      "0\n",
      "0\n"
     ]
    }
   ],
   "source": [
    "# hepsi True ise son degeri dondurur. bir tanesi bile False ise False degeri dondurur.\n",
    "\n",
    "print(5 and 8 and 9)\n",
    "\n",
    "print(True and 0 and \"nice\")\n",
    "\n",
    "logic = True and 0 and \"nice\"\n",
    "print(logic)"
   ]
  },
  {
   "cell_type": "code",
   "execution_count": 8,
   "metadata": {},
   "outputs": [
    {
     "name": "stdout",
     "output_type": "stream",
     "text": [
      "??\n"
     ]
    }
   ],
   "source": [
    "print([1,2] and 3 and 8 and \"??\")"
   ]
  },
  {
   "cell_type": "code",
   "execution_count": 9,
   "metadata": {},
   "outputs": [
    {
     "name": "stdout",
     "output_type": "stream",
     "text": [
      "False\n",
      "cenk\n"
     ]
    }
   ],
   "source": [
    "# hepsi False ise son degeri dondurur. bir tane bile True varsa ilk True degeri dondurur.\n",
    "\n",
    "print(0 or None or False)\n",
    "\n",
    "print([] or \"cenk\" or 0)"
   ]
  },
  {
   "attachments": {},
   "cell_type": "markdown",
   "metadata": {},
   "source": [
    "### examples"
   ]
  },
  {
   "cell_type": "code",
   "execution_count": 11,
   "metadata": {},
   "outputs": [
    {
     "name": "stdout",
     "output_type": "stream",
     "text": [
      "True\n",
      "6\n"
     ]
    }
   ],
   "source": [
    "print(False or 5 and not 0)\n",
    "\n",
    "print(False or not 0 and 6)"
   ]
  },
  {
   "cell_type": "code",
   "execution_count": 13,
   "metadata": {},
   "outputs": [
    {
     "name": "stdout",
     "output_type": "stream",
     "text": [
      "True\n"
     ]
    }
   ],
   "source": [
    "print(True or False and not 0 and 3 or False)"
   ]
  },
  {
   "attachments": {},
   "cell_type": "markdown",
   "metadata": {},
   "source": [
    "## Indexing & Slicing"
   ]
  },
  {
   "cell_type": "code",
   "execution_count": 17,
   "metadata": {},
   "outputs": [
    {
     "name": "stdout",
     "output_type": "stream",
     "text": [
      "Techpro Education\n",
      "T\n",
      "n\n",
      "n\n",
      "E\n"
     ]
    }
   ],
   "source": [
    "name = \"Techpro Education\"\n",
    "print(name)\n",
    "\n",
    "print(name[0])\n",
    "print(name[16])\n",
    "\n",
    "print(name[-1])  # tersten bakar\n",
    "print(name[-9])"
   ]
  },
  {
   "cell_type": "code",
   "execution_count": 20,
   "metadata": {},
   "outputs": [
    {
     "name": "stdout",
     "output_type": "stream",
     "text": [
      "TechPro Education\n",
      "techtechtech\n"
     ]
    }
   ],
   "source": [
    "feed = \"Tech\" + \"Pro\" + \" \" + \"Education\"\n",
    "print(feed)\n",
    "\n",
    "print(\"tech\" * 3)"
   ]
  },
  {
   "cell_type": "code",
   "execution_count": 29,
   "metadata": {},
   "outputs": [
    {
     "name": "stdout",
     "output_type": "stream",
     "text": [
      "tat\n",
      "atate\n",
      "patat\n",
      "tates\n"
     ]
    }
   ],
   "source": [
    "asd = \"patates\"\n",
    "dsa = asd[2] + asd[3] + asd[4]\n",
    "print(dsa)\n",
    "\n",
    "yup = asd[1:6]  # 6. karakter dahil degil\n",
    "print(yup)\n",
    "\n",
    "deep = asd[:5]  # 0'dan baslar \n",
    "print(deep)\n",
    "\n",
    "peep = asd[2:]  # 2'den baslar. sona kadar gider\n",
    "print(peep)"
   ]
  },
  {
   "cell_type": "code",
   "execution_count": 33,
   "metadata": {},
   "outputs": [
    {
     "name": "stdout",
     "output_type": "stream",
     "text": [
      "poEuain\n",
      "p utn\n"
     ]
    }
   ],
   "source": [
    "print(\"Techpro Education\"[4::2])\n",
    "print(\"Techpro Education\"[4::3])"
   ]
  },
  {
   "cell_type": "code",
   "execution_count": 1,
   "metadata": {},
   "outputs": [
    {
     "name": "stdout",
     "output_type": "stream",
     "text": [
      "ui\n"
     ]
    }
   ],
   "source": [
    "print(\"Ben bugun indexleme ogrendim\"[5:15:5]) # 5'ten 15'e kadar araligi belirler. baslangis(5.index) ve sonrasinda 5 karakter atlayarak cikanlari yazdirir.\n",
    "# [start:stop:step]"
   ]
  },
  {
   "cell_type": "code",
   "execution_count": 43,
   "metadata": {},
   "outputs": [
    {
     "name": "stdout",
     "output_type": "stream",
     "text": [
      "TechnoPark\n",
      "kraPonhceT\n",
      "\n",
      "onh\n"
     ]
    }
   ],
   "source": [
    "print(\"TechnoPark\"[::])\n",
    "print(\"TechnoPark\"[::-1])\n",
    "\n",
    "print(\"TechnoPark\"[2:5:-1])\n",
    "print(\"TechnoPark\"[5:2:-1])     # stepler tersten gelecegi icin start ve stop yer degistirmeli."
   ]
  },
  {
   "cell_type": "code",
   "execution_count": 46,
   "metadata": {},
   "outputs": [
    {
     "name": "stdout",
     "output_type": "stream",
     "text": [
      "roe\n",
      "din\n"
     ]
    }
   ],
   "source": [
    "print(\"ben bugun indexleme ogrendim\"[6:12:-2])\n",
    "print(\"ben bugun indexleme ogrendim\"[12:6:-2])"
   ]
  },
  {
   "cell_type": "code",
   "execution_count": 47,
   "metadata": {},
   "outputs": [
    {
     "name": "stdout",
     "output_type": "stream",
     "text": [
      "rph\n"
     ]
    }
   ],
   "source": [
    "print(\"Techpro\"[-2:2:-1])"
   ]
  },
  {
   "cell_type": "code",
   "execution_count": 51,
   "metadata": {},
   "outputs": [
    {
     "name": "stdout",
     "output_type": "stream",
     "text": [
      "techpro\n"
     ]
    }
   ],
   "source": [
    "ad = \"tec?hpro\"\n",
    "print(ad.replace(\"?\", \"\"))"
   ]
  }
 ],
 "metadata": {
  "kernelspec": {
   "display_name": "Python 3",
   "language": "python",
   "name": "python3"
  },
  "language_info": {
   "codemirror_mode": {
    "name": "ipython",
    "version": 3
   },
   "file_extension": ".py",
   "mimetype": "text/x-python",
   "name": "python",
   "nbconvert_exporter": "python",
   "pygments_lexer": "ipython3",
   "version": "3.11.3"
  },
  "orig_nbformat": 4
 },
 "nbformat": 4,
 "nbformat_minor": 2
}
