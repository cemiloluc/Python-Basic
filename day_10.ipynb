{
 "cells": [
  {
   "attachments": {},
   "cell_type": "markdown",
   "metadata": {},
   "source": [
    "# Dictionaries"
   ]
  },
  {
   "cell_type": "code",
   "execution_count": 1,
   "metadata": {},
   "outputs": [
    {
     "data": {
      "text/plain": [
       "{}"
      ]
     },
     "execution_count": 1,
     "metadata": {},
     "output_type": "execute_result"
    }
   ],
   "source": [
    "# iki sekilde olusturulabilir\n",
    "dict()\n",
    "{}\n",
    "\n",
    "# string int float boolean tuple key olarak atanabilir. liste ve Dictionaries atayamayız.\n",
    "# value'ya liste atayabiliriz"
   ]
  },
  {
   "cell_type": "code",
   "execution_count": 8,
   "metadata": {},
   "outputs": [
    {
     "name": "stdout",
     "output_type": "stream",
     "text": [
      "{'key1': 'value1', 'key2': 'value2', 'key3': 'value3'}\n",
      "dict_items([('key1', 'value1'), ('key2', 'value2'), ('key3', 'value3')])\n",
      "dict_keys(['key1', 'key2', 'key3'])\n",
      "dict_values(['value1', 'value2', 'value3'])\n",
      "value1\n"
     ]
    }
   ],
   "source": [
    "dict_1 = {\"key1\" : \"value1\", \"key2\" : \"value2\", \"key3\" : \"value3\"}\n",
    "print(dict_1)\n",
    "\n",
    "print(dict_1.items())\n",
    "\n",
    "print(dict_1.keys())\n",
    "print(dict_1.values())\n",
    "\n",
    "print(dict_1[\"key1\"])"
   ]
  },
  {
   "cell_type": "code",
   "execution_count": 13,
   "metadata": {},
   "outputs": [
    {
     "name": "stdout",
     "output_type": "stream",
     "text": [
      "two\n"
     ]
    }
   ],
   "source": [
    "dict_2 = {9 : \"one\", 8 : \"two\", 7.5 : \"three\"}\n",
    "print(dict_2[8])"
   ]
  },
  {
   "cell_type": "code",
   "execution_count": 10,
   "metadata": {},
   "outputs": [
    {
     "name": "stdout",
     "output_type": "stream",
     "text": [
      "{False: 0, True: 1}\n"
     ]
    }
   ],
   "source": [
    "dict_3 = {False : 0, True : 1}\n",
    "print(dict_3)"
   ]
  },
  {
   "cell_type": "code",
   "execution_count": 14,
   "metadata": {},
   "outputs": [
    {
     "ename": "TypeError",
     "evalue": "unhashable type: 'list'",
     "output_type": "error",
     "traceback": [
      "\u001b[0;31m---------------------------------------------------------------------------\u001b[0m",
      "\u001b[0;31mTypeError\u001b[0m                                 Traceback (most recent call last)",
      "Cell \u001b[0;32mIn[14], line 1\u001b[0m\n\u001b[0;32m----> 1\u001b[0m dict_5 \u001b[39m=\u001b[39m {[\u001b[39m1\u001b[39m,\u001b[39m2\u001b[39m,\u001b[39m3\u001b[39m] : \u001b[39m\"\u001b[39m\u001b[39mliste_1\u001b[39m\u001b[39m\"\u001b[39m}\n\u001b[1;32m      2\u001b[0m \u001b[39mprint\u001b[39m(dict_5)\n",
      "\u001b[0;31mTypeError\u001b[0m: unhashable type: 'list'"
     ]
    }
   ],
   "source": [
    "dict_5 = {[1,2,3] : \"liste_1\"}  # listeyi key olarak atayamayız\n",
    "print(dict_5)"
   ]
  },
  {
   "cell_type": "code",
   "execution_count": 15,
   "metadata": {},
   "outputs": [
    {
     "name": "stdout",
     "output_type": "stream",
     "text": [
      "{(1, 2, 3): 'tuple_1'}\n"
     ]
    }
   ],
   "source": [
    "dict_6 = {(1,2,3) : \"tuple_1\"}  # tuple'ı key olarak atayabilirz\n",
    "print(dict_6)"
   ]
  },
  {
   "cell_type": "code",
   "execution_count": 17,
   "metadata": {},
   "outputs": [
    {
     "name": "stdout",
     "output_type": "stream",
     "text": [
      "{'ogrenci': ['ali', 32, 'data']}\n"
     ]
    }
   ],
   "source": [
    "dict_8 = {\"ogrenci\" : [\"ali\", 32, \"data\"]}\n",
    "print(dict_8)"
   ]
  },
  {
   "cell_type": "code",
   "execution_count": 20,
   "metadata": {},
   "outputs": [
    {
     "ename": "SyntaxError",
     "evalue": "expression cannot contain assignment, perhaps you meant \"==\"? (2453917277.py, line 4)",
     "output_type": "error",
     "traceback": [
      "\u001b[0;36m  Cell \u001b[0;32mIn[20], line 4\u001b[0;36m\u001b[0m\n\u001b[0;31m    dict_10 = dict(1 = \"one\", 2 = \"two\") # method kullanmak istedigimizde key int olamaz.\u001b[0m\n\u001b[0m                   ^\u001b[0m\n\u001b[0;31mSyntaxError\u001b[0m\u001b[0;31m:\u001b[0m expression cannot contain assignment, perhaps you meant \"==\"?\n"
     ]
    }
   ],
   "source": [
    "dict_9 = dict(elma = 1, armut = 2) # dikkat keyleri stringe cevirmeye gerek yok\n",
    "print(dict_9)\n",
    "\n",
    "dict_10 = dict(1 = \"elma\", 2 = \"armut\") # method kullanmak istedigimizde key int olamaz. \n",
    "print(dict_10)"
   ]
  },
  {
   "cell_type": "code",
   "execution_count": 25,
   "metadata": {},
   "outputs": [
    {
     "name": "stdout",
     "output_type": "stream",
     "text": [
      "{'friend1': 'nazim', 'friend2': 'alper', 'friend3': 'zeki'}\n",
      "{'friend1': 'nazim', 'friend2': 'alper', 'friend3': 'zeki', 'friend4': 'aybuke'}\n",
      "{'friend1': 'sadik', 'friend2': 'alper', 'friend3': 'zeki', 'friend4': 'aybuke'}\n"
     ]
    }
   ],
   "source": [
    "dict_friend = {\"friend1\" : \"nazim\", \"friend2\" : \"alper\", \"friend3\" : \"zeki\"}\n",
    "print(dict_friend)\n",
    "\n",
    "dict_friend[\"friend4\"] = \"aybuke\"   # dict'ler de listeler gibi degistirilebilir.\n",
    "print(dict_friend)\n",
    "\n",
    "dict_friend[\"friend1\"] = \"sadik\"\n",
    "print(dict_friend)"
   ]
  },
  {
   "cell_type": "code",
   "execution_count": null,
   "metadata": {},
   "outputs": [],
   "source": [
    "# bir dict icinde birden fazla ayni isimde key olamaz . keyler unique'dir. eger ayni deger verilirse son keyin valuesini dondurur."
   ]
  },
  {
   "cell_type": "code",
   "execution_count": 2,
   "metadata": {},
   "outputs": [
    {
     "name": "stdout",
     "output_type": "stream",
     "text": [
      "{'name': ['saffet', 'ismail', 'hilal'], 'age': [32, 25, 30]}\n",
      "['saffet', 'ismail', 'hilal']\n",
      "{'name': ['saffet', 'ismail', 'hilal', 'aybuke'], 'age': [32, 25, 30]}\n"
     ]
    }
   ],
   "source": [
    "person_info = {\"name\" : [\"saffet\", \"ismail\", \"hilal\"], \"age\" : [32, 25, 30]}\n",
    "print(person_info)\n",
    "\n",
    "print(person_info[\"name\"])\n",
    "\n",
    "person_info[\"name\"].append(\"aybuke\")\n",
    "print(person_info)\n"
   ]
  },
  {
   "cell_type": "code",
   "execution_count": 5,
   "metadata": {},
   "outputs": [
    {
     "name": "stdout",
     "output_type": "stream",
     "text": [
      "{'tekSayilar': [], 'ciftSayilar': []}\n",
      "{'tekSayilar': [1, 3, 5, 7, 9], 'ciftSayilar': [0, 2, 4, 6, 8]}\n"
     ]
    }
   ],
   "source": [
    "sayilar = {\"tekSayilar\" : [], \"ciftSayilar\" : []}\n",
    "print(sayilar)\n",
    "\n",
    "sayilar[\"tekSayilar\"] = list(range(1,10,2))\n",
    "sayilar[\"ciftSayilar\"] = list(range(0,10,2))\n",
    "print(sayilar)"
   ]
  },
  {
   "attachments": {},
   "cell_type": "markdown",
   "metadata": {},
   "source": [
    "### update()"
   ]
  },
  {
   "cell_type": "code",
   "execution_count": 14,
   "metadata": {},
   "outputs": [
    {
     "name": "stdout",
     "output_type": "stream",
     "text": [
      "{1: 'one', 2: 'two', 3: 'three'}\n",
      "{1: 'one', 2: 'two', 3: 'three', 5: 'five', 6: 'six'}\n",
      "{1: 'one', 2: 'two', 3: 'üç', 5: 'five', 6: 'six'}\n"
     ]
    }
   ],
   "source": [
    "dict_11 = {1 : \"one\", 2 : \"two\", 3 : \"three\"}\n",
    "print(dict_11)\n",
    "\n",
    "dict_11.update({5 : \"five\", 6 : \"six\"})     # ekleye de biliriz\n",
    "print(dict_11)\n",
    "\n",
    "dict_11.update({3 : \"üç\"})  # değiştire de biliriz\n",
    "print(dict_11)"
   ]
  },
  {
   "attachments": {},
   "cell_type": "markdown",
   "metadata": {},
   "source": [
    "### clear()"
   ]
  },
  {
   "cell_type": "code",
   "execution_count": 11,
   "metadata": {},
   "outputs": [
    {
     "name": "stdout",
     "output_type": "stream",
     "text": [
      "{1: 'one', 2: 'two', 3: 'three'}\n",
      "{}\n"
     ]
    }
   ],
   "source": [
    "dict_12 = {1 : \"one\", 2 : \"two\", 3 : \"three\"}\n",
    "print(dict_12)\n",
    "dict_12.clear()\n",
    "print(dict_12)"
   ]
  },
  {
   "attachments": {},
   "cell_type": "markdown",
   "metadata": {},
   "source": [
    "### pop()"
   ]
  },
  {
   "cell_type": "code",
   "execution_count": 12,
   "metadata": {},
   "outputs": [
    {
     "name": "stdout",
     "output_type": "stream",
     "text": [
      "{8: 'one', 9: 'two', 10: 'three'}\n",
      "{8: 'one', 10: 'three'}\n"
     ]
    }
   ],
   "source": [
    "dict_13 = {8 : \"one\", 9 : \"two\", 10 : \"three\"}\n",
    "print(dict_13)\n",
    "\n",
    "dict_13.pop(9)  # key yazilmali\n",
    "print(dict_13)"
   ]
  },
  {
   "attachments": {},
   "cell_type": "markdown",
   "metadata": {},
   "source": [
    "### get()"
   ]
  },
  {
   "cell_type": "code",
   "execution_count": 13,
   "metadata": {},
   "outputs": [
    {
     "data": {
      "text/plain": [
       "'three'"
      ]
     },
     "execution_count": 13,
     "metadata": {},
     "output_type": "execute_result"
    }
   ],
   "source": [
    "dict_14 = {8 : \"one\", 9 : \"two\", 10 : \"three\"}\n",
    "dict_14.get(10)"
   ]
  },
  {
   "attachments": {},
   "cell_type": "markdown",
   "metadata": {},
   "source": [
    "### nested dicts"
   ]
  },
  {
   "cell_type": "code",
   "execution_count": 20,
   "metadata": {},
   "outputs": [
    {
     "name": "stdout",
     "output_type": "stream",
     "text": [
      "{'child1': {'name': 'Emil', 'year': 2004}, 'child2': {'name': 'Tobias', 'year': 2007}, 'child3': {'name': 'Linus', 'year': 2011}}\n",
      "dict_items([('child1', {'name': 'Emil', 'year': 2004}), ('child2', {'name': 'Tobias', 'year': 2007}), ('child3', {'name': 'Linus', 'year': 2011})])\n",
      "{'name': 'Emil', 'year': 2004}\n",
      "Emil\n",
      "{'child1': {'name': 'Emil', 'year': 2004, 'sex': 'male'}, 'child2': {'name': 'Tobias', 'year': 2007}, 'child3': {'name': 'Linus', 'year': 2011}}\n",
      "True\n",
      "False\n",
      "True\n"
     ]
    }
   ],
   "source": [
    "myfamily = {\n",
    "  \"child1\" : {\n",
    "    \"name\" : \"Emil\",\n",
    "    \"year\" : 2004\n",
    "  },\n",
    "  \"child2\" : {\n",
    "    \"name\" : \"Tobias\",\n",
    "    \"year\" : 2007\n",
    "  },\n",
    "  \"child3\" : {\n",
    "    \"name\" : \"Linus\",\n",
    "    \"year\" : 2011\n",
    "  }\n",
    "}\n",
    "\n",
    "print(myfamily)\n",
    "print(myfamily.items())\n",
    "print(myfamily.get(\"child1\"))\n",
    "print(myfamily.get(\"child1\").get(\"name\"))\n",
    "\n",
    "myfamily.get(\"child1\").update({\"sex\" : \"male\"})\n",
    "print(myfamily)\n",
    "\n",
    "# once asagidaki in, not in basigina bak sonra burayi incele\n",
    "print(\"child1\" in myfamily)\n",
    "print(\"name\" in myfamily)\n",
    "print(\"name\" in myfamily.get(\"child1\"))"
   ]
  },
  {
   "attachments": {},
   "cell_type": "markdown",
   "metadata": {},
   "source": [
    "### in, not in"
   ]
  },
  {
   "cell_type": "code",
   "execution_count": 12,
   "metadata": {},
   "outputs": [
    {
     "name": "stdout",
     "output_type": "stream",
     "text": [
      "True\n",
      "False\n",
      "False\n",
      "True\n",
      "True\n"
     ]
    }
   ],
   "source": [
    "print(\"e\" in \"hello\")\n",
    "print(\"a\" in \"hello\")\n",
    "print(\"e\" not in \"hello\")\n",
    "\n",
    "print(1 in [1,2,3,4,5])\n",
    "print(2 in (1,2,3))"
   ]
  },
  {
   "cell_type": "code",
   "execution_count": 19,
   "metadata": {},
   "outputs": [
    {
     "name": "stdout",
     "output_type": "stream",
     "text": [
      "True\n",
      "False\n",
      "True\n"
     ]
    }
   ],
   "source": [
    "dict_15 = {8 : \"one\", 9 : \"two\", 10 : \"three\"}\n",
    "\n",
    "print(8 in dict_15)     # in operatoru dict'lerde keyleri arar\n",
    "print(\"one\" in dict_15) # value bakmaz\n",
    "\n",
    "print(\"one\" in dict_15.values())    # value bakmasi icin values() methodu eklenmeli"
   ]
  }
 ],
 "metadata": {
  "kernelspec": {
   "display_name": "Python 3",
   "language": "python",
   "name": "python3"
  },
  "language_info": {
   "codemirror_mode": {
    "name": "ipython",
    "version": 3
   },
   "file_extension": ".py",
   "mimetype": "text/x-python",
   "name": "python",
   "nbconvert_exporter": "python",
   "pygments_lexer": "ipython3",
   "version": "3.11.3"
  },
  "orig_nbformat": 4
 },
 "nbformat": 4,
 "nbformat_minor": 2
}
