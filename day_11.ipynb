{
 "cells": [
  {
   "attachments": {},
   "cell_type": "markdown",
   "metadata": {},
   "source": [
    "# Sets"
   ]
  },
  {
   "cell_type": "code",
   "execution_count": 3,
   "metadata": {},
   "outputs": [
    {
     "data": {
      "text/plain": [
       "{}"
      ]
     },
     "execution_count": 3,
     "metadata": {},
     "output_type": "execute_result"
    }
   ],
   "source": [
    "set()\n",
    "{}"
   ]
  },
  {
   "cell_type": "code",
   "execution_count": 8,
   "metadata": {},
   "outputs": [
    {
     "name": "stdout",
     "output_type": "stream",
     "text": [
      "{'h', 'l', 'e', 'o'}\n"
     ]
    }
   ],
   "source": [
    "print(set(\"hello\") )   # siralama onemsizdir ve elemanlar uique'dir. int siralar"
   ]
  },
  {
   "cell_type": "code",
   "execution_count": 10,
   "metadata": {},
   "outputs": [
    {
     "name": "stdout",
     "output_type": "stream",
     "text": [
      "{'a', 'r', ' ', 'p', 't', 'c', 'u', 'e', 'n', 'h', 'i', 'd', 'o'}\n"
     ]
    }
   ],
   "source": [
    "print(set(\"techpro education\"))     # indexleme olmaz"
   ]
  },
  {
   "cell_type": "code",
   "execution_count": 11,
   "metadata": {},
   "outputs": [
    {
     "data": {
      "text/plain": [
       "{'blue', 'green', 'red', 'white'}"
      ]
     },
     "execution_count": 11,
     "metadata": {},
     "output_type": "execute_result"
    }
   ],
   "source": [
    "{\"blue\", \"green\", \"white\", \"blue\", \"red\"}"
   ]
  },
  {
   "cell_type": "code",
   "execution_count": 14,
   "metadata": {},
   "outputs": [
    {
     "name": "stdout",
     "output_type": "stream",
     "text": [
      "{}\n",
      "<class 'dict'>\n"
     ]
    }
   ],
   "source": [
    "empyt_set ={}   # bos dict olusturduk\n",
    "print(empyt_set)\n",
    "\n",
    "print(type(empyt_set))"
   ]
  },
  {
   "cell_type": "code",
   "execution_count": 13,
   "metadata": {},
   "outputs": [
    {
     "name": "stdout",
     "output_type": "stream",
     "text": [
      "set()\n",
      "<class 'set'>\n"
     ]
    }
   ],
   "source": [
    "empty_set_2 = set()     #bos set olusturduk\n",
    "print(empty_set_2)\n",
    "\n",
    "print(type(empty_set_2))"
   ]
  },
  {
   "cell_type": "code",
   "execution_count": 16,
   "metadata": {},
   "outputs": [
    {
     "name": "stdout",
     "output_type": "stream",
     "text": [
      "['kalem', 'kağit', 'silgi', 'kalem']\n",
      "{'kağit', 'kalem', 'silgi'}\n",
      "3\n"
     ]
    }
   ],
   "source": [
    "liste_1 = [\"kalem\", \"kağit\", \"silgi\", \"kalem\"]\n",
    "print(liste_1)\n",
    "\n",
    "set_1 = set(liste_1)\n",
    "print(set_1)\n",
    "\n",
    "print(len(set_1))"
   ]
  },
  {
   "cell_type": "code",
   "execution_count": 18,
   "metadata": {},
   "outputs": [
    {
     "name": "stdout",
     "output_type": "stream",
     "text": [
      "{False, True, 2, 4}\n",
      "{0, 1, 2, 4}\n"
     ]
    }
   ],
   "source": [
    "set_3 = {True, False, 1,4,0,2}\n",
    "print(set_3)\n",
    "                                # siralamada ilk gordugunu yazdirir\n",
    "set_4 = {0,1,2,True,False,4}\n",
    "print(set_4)"
   ]
  },
  {
   "attachments": {},
   "cell_type": "markdown",
   "metadata": {},
   "source": [
    "## Union, Intersection, Difference\n",
    "## Birleşim, Kesişim, Fark"
   ]
  },
  {
   "cell_type": "code",
   "execution_count": 26,
   "metadata": {},
   "outputs": [
    {
     "name": "stdout",
     "output_type": "stream",
     "text": [
      "{'a', 'y', 't', 'm', 'l'}\n",
      "{'a', 'y', 's', 'i', 'k'}\n",
      "--------------------\n",
      "{'t', 'l', 'm'}\n",
      "{'t', 'l', 'm'}\n",
      "--------------------\n",
      "{'i', 'k', 's'}\n",
      "{'i', 'k', 's'}\n",
      "--------------------\n",
      "{'a', 'y'}\n",
      "{'a', 'y'}\n",
      "--------------------\n",
      "{'a', 'y'}\n",
      "{'a', 'y'}\n",
      "--------------------\n",
      "{'a', 'y', 't', 'm', 's', 'i', 'l', 'k'}\n",
      "{'a', 'y', 't', 'm', 's', 'i', 'l', 'k'}\n"
     ]
    }
   ],
   "source": [
    "a = set(\"malatya\")\n",
    "print(a)\n",
    "\n",
    "b = set(\"kayisi\")\n",
    "print(b)\n",
    "\n",
    "print(\"--------------------\")\n",
    "\n",
    "# difference\n",
    "print(a-b)\n",
    "print(a.difference(b)) \n",
    "\n",
    "print(\"--------------------\")\n",
    "\n",
    "print(b-a)\n",
    "print(b.difference(a)) \n",
    "\n",
    "print(\"--------------------\")\n",
    "\n",
    "print(a&b)\n",
    "print(a.intersection(b))\n",
    "\n",
    "print(\"--------------------\")\n",
    "\n",
    "print(b&a)\n",
    "print(b.intersection(a))\n",
    "\n",
    "print(\"--------------------\")\n",
    "\n",
    "# print(a+b) # setlerde toplama islemi yoktur. onun yerine union kullanilir\n",
    "\n",
    "\n",
    "print(a|b)\n",
    "print(a.union(b))"
   ]
  },
  {
   "cell_type": "code",
   "execution_count": 57,
   "metadata": {},
   "outputs": [
    {
     "name": "stdout",
     "output_type": "stream",
     "text": [
      "{'f', 't', 's', 'i', 'k'}\n",
      "{'f', 'n', 'i', 'k', 'd'}\n",
      "--------------------\n",
      "{'t', 's'}\n",
      "{'d', 'n'}\n",
      "--------------------\n",
      "{'n', 't', 'd', 's'}\n",
      "--------------------\n",
      "{'t', 's'}\n",
      "{'f', 't', 's', 'i', 'k'}\n",
      "{'t', 's'}\n"
     ]
    }
   ],
   "source": [
    "set_5 = set(\"fistik\")\n",
    "print(set_5)\n",
    "\n",
    "set_6 = set(\"findik\")\n",
    "print(set_6)\n",
    "\n",
    "print(\"--------------------\")\n",
    "\n",
    "print(set_5 - set_6)\n",
    "print(set_6 - set_5)\n",
    "\n",
    "print(\"--------------------\")\n",
    "\n",
    "print(set_5 - set_6 | set_6 - set_5)\n",
    "set_5.symmetric_difference(set_6)\n",
    "\n",
    "print(\"--------------------\")\n",
    "\n",
    "print(set_5.difference(set_6))\n",
    "print(set_5)\n",
    "\n",
    "set_5.difference_update(set_6)  # sol tarafta kalan kumeyi kalici olarak degistirir.\n",
    "print(set_5)"
   ]
  },
  {
   "attachments": {},
   "cell_type": "markdown",
   "metadata": {},
   "source": [
    "### clear()"
   ]
  },
  {
   "cell_type": "code",
   "execution_count": 58,
   "metadata": {},
   "outputs": [
    {
     "name": "stdout",
     "output_type": "stream",
     "text": [
      "{'t', 's'}\n",
      "set()\n"
     ]
    }
   ],
   "source": [
    "print(set_5)\n",
    "set_5.clear()\n",
    "print(set_5)"
   ]
  },
  {
   "attachments": {},
   "cell_type": "markdown",
   "metadata": {},
   "source": [
    "### remove()"
   ]
  },
  {
   "cell_type": "code",
   "execution_count": 59,
   "metadata": {},
   "outputs": [
    {
     "name": "stdout",
     "output_type": "stream",
     "text": [
      "{'f', 'n', 'i', 'k', 'd'}\n",
      "{'f', 'n', 'i', 'k'}\n"
     ]
    }
   ],
   "source": [
    "print(set_6)\n",
    "set_6.remove(\"d\")\n",
    "print(set_6)"
   ]
  },
  {
   "attachments": {},
   "cell_type": "markdown",
   "metadata": {},
   "source": [
    "### discard()"
   ]
  },
  {
   "cell_type": "code",
   "execution_count": 90,
   "metadata": {},
   "outputs": [
    {
     "name": "stdout",
     "output_type": "stream",
     "text": [
      "{'r', 'p', 't', 'c', 'e', 'h', 'o'}\n"
     ]
    }
   ],
   "source": [
    "set_8 = set(\"techpro\")\n",
    "print(set_8)\n",
    "set_8.discard(\"c\")\n",
    "set_8.discard(\"a\")  # discard() eleman yoksa hata vermez fakat remove() istenen elemani bulamadiginda hata verir."
   ]
  },
  {
   "attachments": {},
   "cell_type": "markdown",
   "metadata": {},
   "source": [
    "### pop()"
   ]
  },
  {
   "cell_type": "code",
   "execution_count": 60,
   "metadata": {},
   "outputs": [
    {
     "name": "stdout",
     "output_type": "stream",
     "text": [
      "{'f', 'n', 'i', 'k'}\n",
      "f\n",
      "{'n', 'i', 'k'}\n"
     ]
    }
   ],
   "source": [
    "print(set_6)\n",
    "print(set_6.pop())  # rastgele eleman siler.\n",
    "print(set_6)"
   ]
  },
  {
   "attachments": {},
   "cell_type": "markdown",
   "metadata": {},
   "source": [
    "### add()"
   ]
  },
  {
   "cell_type": "code",
   "execution_count": 83,
   "metadata": {},
   "outputs": [
    {
     "name": "stdout",
     "output_type": "stream",
     "text": [
      "{'a', 'n', 'i', 'k'}\n",
      "{'a', 'n', 'i', 'k'}\n",
      "{'a', 'n', 'i', 'k'}\n",
      "{'a', 'n', 'i', 'k'}\n"
     ]
    }
   ],
   "source": [
    "print(set_6)\n",
    "set_6.add(\"a\")\n",
    "print(set_6)\n",
    "set_6.add(\"a\")\n",
    "print(set_6)\n",
    "set_6.add(\"a\")\n",
    "print(set_6)"
   ]
  },
  {
   "cell_type": "code",
   "execution_count": 84,
   "metadata": {},
   "outputs": [
    {
     "ename": "TypeError",
     "evalue": "unhashable type: 'list'",
     "output_type": "error",
     "traceback": [
      "\u001b[0;31m---------------------------------------------------------------------------\u001b[0m",
      "\u001b[0;31mTypeError\u001b[0m                                 Traceback (most recent call last)",
      "Cell \u001b[0;32mIn[84], line 1\u001b[0m\n\u001b[0;32m----> 1\u001b[0m set_6\u001b[39m.\u001b[39;49madd([\u001b[39m\"\u001b[39;49m\u001b[39mm\u001b[39;49m\u001b[39m\"\u001b[39;49m, \u001b[39m\"\u001b[39;49m\u001b[39mr\u001b[39;49m\u001b[39m\"\u001b[39;49m])\n",
      "\u001b[0;31mTypeError\u001b[0m: unhashable type: 'list'"
     ]
    }
   ],
   "source": [
    "set_6.add([\"m\", \"r\"])   # kumeler icerisinde list tutamaz\n",
    "print(set_6)"
   ]
  },
  {
   "cell_type": "code",
   "execution_count": 85,
   "metadata": {},
   "outputs": [
    {
     "ename": "TypeError",
     "evalue": "unhashable type: 'dict'",
     "output_type": "error",
     "traceback": [
      "\u001b[0;31m---------------------------------------------------------------------------\u001b[0m",
      "\u001b[0;31mTypeError\u001b[0m                                 Traceback (most recent call last)",
      "Cell \u001b[0;32mIn[85], line 1\u001b[0m\n\u001b[0;32m----> 1\u001b[0m set_6\u001b[39m.\u001b[39;49madd({\u001b[39m\"\u001b[39;49m\u001b[39mm\u001b[39;49m\u001b[39m\"\u001b[39;49m : \u001b[39m\"\u001b[39;49m\u001b[39mr\u001b[39;49m\u001b[39m\"\u001b[39;49m})   \u001b[39m# kumeler icerisinde dict tutamaz\u001b[39;00m\n\u001b[1;32m      2\u001b[0m \u001b[39mprint\u001b[39m(set_6)\n",
      "\u001b[0;31mTypeError\u001b[0m: unhashable type: 'dict'"
     ]
    }
   ],
   "source": [
    "set_6.add({\"m\" : \"r\"})   # kumeler icerisinde dictionaries tutamaz\n",
    "print(set_6)"
   ]
  },
  {
   "cell_type": "code",
   "execution_count": 86,
   "metadata": {},
   "outputs": [
    {
     "name": "stdout",
     "output_type": "stream",
     "text": [
      "{'a', 'n', ('m', 'l'), 'i', 'k'}\n"
     ]
    }
   ],
   "source": [
    "set_6.add((\"m\", \"l\"))   # kumeler icerisinde tuple tutabilir\n",
    "print(set_6)"
   ]
  },
  {
   "attachments": {},
   "cell_type": "markdown",
   "metadata": {},
   "source": [
    "### issubset()"
   ]
  },
  {
   "cell_type": "code",
   "execution_count": 94,
   "metadata": {},
   "outputs": [
    {
     "name": "stdout",
     "output_type": "stream",
     "text": [
      "True\n",
      "False\n",
      "True\n"
     ]
    }
   ],
   "source": [
    "set_9 = set(\"selin\")\n",
    "set_10 = set(\"enes\")\n",
    "\n",
    "print(set_10.issubset(set_9))   # set_10, set_9'un alt kumesi midir\n",
    "\n",
    "print(set_9.issubset(set_10))   # set_9, set_10'un alt kumesi midir\n",
    "\n",
    "print(set().issubset(set_9))"
   ]
  }
 ],
 "metadata": {
  "kernelspec": {
   "display_name": "Python 3",
   "language": "python",
   "name": "python3"
  },
  "language_info": {
   "codemirror_mode": {
    "name": "ipython",
    "version": 3
   },
   "file_extension": ".py",
   "mimetype": "text/x-python",
   "name": "python",
   "nbconvert_exporter": "python",
   "pygments_lexer": "ipython3",
   "version": "3.11.3"
  },
  "orig_nbformat": 4
 },
 "nbformat": 4,
 "nbformat_minor": 2
}
