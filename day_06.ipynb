{
 "cells": [
  {
   "attachments": {},
   "cell_type": "markdown",
   "metadata": {},
   "source": [
    "## String Methods"
   ]
  },
  {
   "cell_type": "code",
   "execution_count": 1,
   "metadata": {},
   "outputs": [
    {
     "name": "stdout",
     "output_type": "stream",
     "text": [
      "yahya\n",
      "YAHYA\n"
     ]
    }
   ],
   "source": [
    "name = \"Yahya\"\n",
    "print(name.lower())\n",
    "print(name.upper())"
   ]
  },
  {
   "cell_type": "code",
   "execution_count": 15,
   "metadata": {},
   "outputs": [
    {
     "name": "stdout",
     "output_type": "stream",
     "text": [
      "Techpro Education\n",
      "PRO EDUCATION\n",
      "Techpro education\n",
      "TECHPRo EDUCATION\n",
      "Techpro education\n",
      "False\n"
     ]
    }
   ],
   "source": [
    "isim = \"techprO education\"\n",
    "print(isim.title())     # her kelimenin ilk harfini buyutur. diger harfleri kucultur.\n",
    "print(isim[4:].upper())\n",
    "\n",
    "print(isim.capitalize())    # ilk harfi buyutur. diger harfleri kucultur\n",
    "\n",
    "print(isim.swapcase())  # buyuk harfleri kucuk, kucuk harfleri buyuk yapar\n",
    "\n",
    "print(isim.lower().capitalize())    # methodlar coklu kullanilabilir\n",
    "\n",
    "print(isim.islower())\n",
    "\n",
    "# cok daha fazla method var."
   ]
  },
  {
   "cell_type": "code",
   "execution_count": 13,
   "metadata": {},
   "outputs": [
    {
     "name": "stdout",
     "output_type": "stream",
     "text": [
      "kimseyi ark!a birakm!ik\n",
      "kimseyi ark!a birakmadik\n",
      "kimseyi erkede birakmadik\n",
      "kimseyi erkede birekmedik\n"
     ]
    }
   ],
   "source": [
    "str_1 = \"kimseyi arkada birakmadik\"\n",
    "\n",
    "print(str_1.replace(\"ad\", \"!\"))\n",
    "\n",
    "\n",
    "print(str_1.replace(\"ad\", \"!\", 1))      # kac tanesini degistirmek istiyorsak o sayiyi yazariz\n",
    "\n",
    "print(str_1.replace(\"a\", \"e\", 3))\n",
    "print(str_1.replace(\"a\", \"e\", 199))     # hata vermez ne kadar varsa degistirir"
   ]
  },
  {
   "cell_type": "code",
   "execution_count": 15,
   "metadata": {},
   "outputs": [
    {
     "name": "stdout",
     "output_type": "stream",
     "text": [
      "True\n",
      "False\n"
     ]
    }
   ],
   "source": [
    "x = \"birak\"\n",
    "y = \"bırak\"\n",
    "\n",
    "print(x.isascii()) \n",
    "print(y.isascii()) # turkce karakterler ascii tablosunda yoktur"
   ]
  },
  {
   "cell_type": "code",
   "execution_count": 25,
   "metadata": {},
   "outputs": [
    {
     "name": "stdout",
     "output_type": "stream",
     "text": [
      "False\n",
      "False\n",
      "True\n"
     ]
    }
   ],
   "source": [
    "ford = \"Techpro123\"\n",
    "\n",
    "print(ford.isalpha())  # sadece harflerden mi (bosluk da olmamali)\n",
    "print(ford.isalnum())  # sayi ve harflerden mi (bosluk da olmamali)\n",
    "\n",
    "\n",
    "sayi = \"32\"\n",
    "print(sayi.isnumeric()) # sadece sayilardan mi"
   ]
  },
  {
   "cell_type": "code",
   "execution_count": 28,
   "metadata": {},
   "outputs": [
    {
     "name": "stdout",
     "output_type": "stream",
     "text": [
      "5\n"
     ]
    }
   ],
   "source": [
    "str_2 = \"selamlar fanlara\"\n",
    "print(str_2.count(\"a\"))     # kac adet a harfi oldugunu dondurur"
   ]
  },
  {
   "cell_type": "code",
   "execution_count": 32,
   "metadata": {},
   "outputs": [
    {
     "name": "stdout",
     "output_type": "stream",
     "text": [
      "['Techpro', 'is', 'the', 'best', 'course', 'in', 'the', 'world']\n",
      "['Techpr', ' is the best c', 'urse in the w', 'rld']\n",
      "['Techpr', ' is the best c', 'urse in the world']\n"
     ]
    }
   ],
   "source": [
    "str_3 = 'Techpro is the best course in the world'\n",
    "print(str_3.split(\" \"))\n",
    "\n",
    "print(str_3.split(\"o\"))\n",
    "\n",
    "print(str_3.split(\"o\", 2)) # 2 kere bol sonra devam etme"
   ]
  },
  {
   "cell_type": "code",
   "execution_count": 37,
   "metadata": {},
   "outputs": [
    {
     "name": "stdout",
     "output_type": "stream",
     "text": [
      "30\n",
      "['Ben', 'umut', 'nedir', 'bilmezdim.', 'Elimden', 'kimse', 'tutmazdi', 'benim,', 'ya', 'da', 'kimse', 'sacimi', 'oksayip', 'sevmezdi', 'beni..', 'eksiktim,', 'yarimdim', 'ama', 'ne', 'olursa', 'olsun', 'gucluydum.', 'Tek', 'basima', 'da', 'olsa', 'her', 'zaman', 'ayaga', 'kalkmayi', 'basarirdim.']\n",
      "['Ben', 'umut', 'nedir', 'bilmezdim.', 'Elimden', 'kimse', 'tutmazdi', 'benim,', 'ya', 'da', 'kimse sacimi oksayip sevmezdi beni.. \\neksiktim, yarimdim ama ne olursa olsun gucluydum. \\nTek basima da olsa her zaman ayaga kalkmayi basarirdim.']\n"
     ]
    }
   ],
   "source": [
    "str_4 = \"\"\"Ben umut nedir bilmezdim. Elimden kimse tutmazdi benim, \n",
    "ya da kimse sacimi oksayip sevmezdi beni.. \n",
    "eksiktim, yarimdim ama ne olursa olsun gucluydum. \n",
    "Tek basima da olsa her zaman ayaga kalkmayi basarirdim.\"\"\"\n",
    "\n",
    "print(str_4.count(\" \"))\n",
    "print(str_4.split())\n",
    "\n",
    "print(str_4.split(maxsplit=10)) # 10 tanesini boler kalani bolmez"
   ]
  },
  {
   "cell_type": "code",
   "execution_count": 39,
   "metadata": {},
   "outputs": [
    {
     "name": "stdout",
     "output_type": "stream",
     "text": [
      "[' ', 'echpro edu is the best']\n"
     ]
    }
   ],
   "source": [
    "str_5 = \" Techpro edu is the best\"\n",
    "print(str_5.split('T'))"
   ]
  },
  {
   "cell_type": "code",
   "execution_count": 44,
   "metadata": {},
   "outputs": [
    {
     "name": "stdout",
     "output_type": "stream",
     "text": [
      "Real is the bes\n"
     ]
    }
   ],
   "source": [
    "str_6 = \"Real is the best\"\n",
    "print(str_6.strip(\"t\"))     # basta ve sonda 't' varsa siler"
   ]
  },
  {
   "cell_type": "code",
   "execution_count": 48,
   "metadata": {},
   "outputs": [
    {
     "name": "stdout",
     "output_type": "stream",
     "text": [
      "     Techpro is the best      \n",
      "Techpro is the best\n",
      "Techpro is the best      \n",
      "     Techpro is the best\n"
     ]
    }
   ],
   "source": [
    "str_7 = \"     Techpro is the best      \"\n",
    "print(str_7)\n",
    "print(str_7.strip())\n",
    "print(str_7.lstrip())\n",
    "print(str_7.rstrip())"
   ]
  },
  {
   "attachments": {},
   "cell_type": "markdown",
   "metadata": {},
   "source": [
    "# if - elif - else"
   ]
  },
  {
   "cell_type": "code",
   "execution_count": 53,
   "metadata": {},
   "outputs": [
    {
     "name": "stdout",
     "output_type": "stream",
     "text": [
      "5 4'ten buyuktur\n"
     ]
    }
   ],
   "source": [
    "if 5>4:     # : kullanilmasi sart\n",
    "    print(\"5 4'ten buyuktur\")   # bu satirda 4 karakter bosluk birakilir. - True degilse yine de calisir fakat cikti bos olur."
   ]
  },
  {
   "cell_type": "code",
   "execution_count": 55,
   "metadata": {},
   "outputs": [
    {
     "name": "stdout",
     "output_type": "stream",
     "text": [
      "calisir mi ?\n"
     ]
    }
   ],
   "source": [
    "if \"mandalina\":\n",
    "    print(\"calisir mi ?\")"
   ]
  },
  {
   "cell_type": "code",
   "execution_count": 56,
   "metadata": {},
   "outputs": [],
   "source": [
    "if \"\":\n",
    "    print(\"calismaz mi ?\")"
   ]
  },
  {
   "cell_type": "code",
   "execution_count": 58,
   "metadata": {},
   "outputs": [
    {
     "name": "stdout",
     "output_type": "stream",
     "text": [
      "else kismi\n"
     ]
    }
   ],
   "source": [
    "if 5<4:\n",
    "    print(\"if kismi\")\n",
    "else:\n",
    "    print(\"else kismi\")"
   ]
  },
  {
   "cell_type": "code",
   "execution_count": 63,
   "metadata": {},
   "outputs": [
    {
     "name": "stdout",
     "output_type": "stream",
     "text": [
      "else kismi\n"
     ]
    }
   ],
   "source": [
    "x=8\n",
    "if x<2:\n",
    "    print(\"if kismi\")\n",
    "elif x>9:\n",
    "    print(\"elif kismi\")\n",
    "elif x>99:\n",
    "    print(\"elif kismi\")\n",
    "else:\n",
    "    print(\"else kismi\")"
   ]
  },
  {
   "cell_type": "code",
   "execution_count": 77,
   "metadata": {},
   "outputs": [
    {
     "name": "stdout",
     "output_type": "stream",
     "text": [
      "gencsiniz\n"
     ]
    }
   ],
   "source": [
    "# kisiye yasini sorun. \n",
    "# 30(dahil) alti ise \"gencsiniz\"\n",
    "# 31(dahil)-50 arasi \"orta yaslisiniz\"\n",
    "# 51 ve ustu ise \"yaslanmissiniz\" yazdirin\n",
    "\n",
    "yas = int(input(\"yasinizi giriniz\"))\n",
    "\n",
    "if 0<=yas<=30:\n",
    "    print(\"gencsiniz\")\n",
    "elif yas<=50:\n",
    "    print(\"orta yaslisiniz\")\n",
    "elif yas>=51:\n",
    "    print(\"yaslanmissiniz\")\n",
    "else:\n",
    "    print(\"lutfen pozitif bir sayi giriniz\")"
   ]
  }
 ],
 "metadata": {
  "kernelspec": {
   "display_name": "Python 3",
   "language": "python",
   "name": "python3"
  },
  "language_info": {
   "codemirror_mode": {
    "name": "ipython",
    "version": 3
   },
   "file_extension": ".py",
   "mimetype": "text/x-python",
   "name": "python",
   "nbconvert_exporter": "python",
   "pygments_lexer": "ipython3",
   "version": "3.11.3"
  },
  "orig_nbformat": 4
 },
 "nbformat": 4,
 "nbformat_minor": 2
}
