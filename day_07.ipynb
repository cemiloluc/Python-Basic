{
 "cells": [
  {
   "attachments": {},
   "cell_type": "markdown",
   "metadata": {},
   "source": [
    "# Lists"
   ]
  },
  {
   "cell_type": "code",
   "execution_count": null,
   "metadata": {},
   "outputs": [],
   "source": [
    "# iki farkli yontemle listeler olusturulabilir.\n",
    "list() # mutable (degistirilebilirlerdir)\n",
    "[]"
   ]
  },
  {
   "cell_type": "code",
   "execution_count": 10,
   "metadata": {},
   "outputs": [
    {
     "name": "stdout",
     "output_type": "stream",
     "text": [
      "7\n",
      "<class 'list'>\n",
      "['T', 'e', 'c', 'h', 'p', 'r', 'o']\n",
      "6\n"
     ]
    }
   ],
   "source": [
    "list_1 = list(\"Techpro\")\n",
    "print(len(list_1)) # kac elamani oldugunu dondurur\n",
    "\n",
    "print(type(list_1))\n",
    "\n",
    "print(len(\"goLive\")) # stringlerde de kullanilabilir"
   ]
  },
  {
   "cell_type": "code",
   "execution_count": 8,
   "metadata": {},
   "outputs": [
    {
     "name": "stdout",
     "output_type": "stream",
     "text": [
      "['T', 'e', 'c', 'h', 'P', 'r', 'o']\n"
     ]
    }
   ],
   "source": [
    "str_1 = \"TechPro\"\n",
    "listem = list(str_1)\n",
    "print(listem)"
   ]
  },
  {
   "cell_type": "code",
   "execution_count": 11,
   "metadata": {},
   "outputs": [
    {
     "name": "stdout",
     "output_type": "stream",
     "text": [
      "['P', 'a', 't', 'a', 't', 'e', 's']\n",
      "35\n"
     ]
    }
   ],
   "source": [
    "sebze = list(\"Patates\")\n",
    "yazi = str(sebze) # listeyi stringe cevirmek icin kullanilir. her karakter stringin elemani olur.\n",
    "print(yazi) \n",
    "print(len(yazi))"
   ]
  },
  {
   "cell_type": "code",
   "execution_count": 14,
   "metadata": {},
   "outputs": [
    {
     "name": "stdout",
     "output_type": "stream",
     "text": [
      "[12, 'Audi', 3.14, False]\n",
      "4\n"
     ]
    }
   ],
   "source": [
    "list_2 = [12, \"Audi\", 3.14, False]\n",
    "print(list_2)\n",
    "print(len(list_2))"
   ]
  },
  {
   "cell_type": "code",
   "execution_count": 15,
   "metadata": {},
   "outputs": [
    {
     "name": "stdout",
     "output_type": "stream",
     "text": [
      "[]\n",
      "[]\n"
     ]
    }
   ],
   "source": [
    "empty_list = list()\n",
    "print(empty_list)\n",
    "\n",
    "empty_list_2 = []\n",
    "print(empty_list_2)"
   ]
  },
  {
   "cell_type": "code",
   "execution_count": 16,
   "metadata": {},
   "outputs": [
    {
     "name": "stdout",
     "output_type": "stream",
     "text": [
      "<class 'type'>\n",
      "<class 'type'>\n",
      "<class 'type'>\n"
     ]
    }
   ],
   "source": [
    "print(type(list))\n",
    "print(type(str))\n",
    "print(type(int))"
   ]
  },
  {
   "cell_type": "code",
   "execution_count": 21,
   "metadata": {},
   "outputs": [
    {
     "ename": "TypeError",
     "evalue": "'int' object is not iterable",
     "output_type": "error",
     "traceback": [
      "\u001b[0;31m---------------------------------------------------------------------------\u001b[0m",
      "\u001b[0;31mTypeError\u001b[0m                                 Traceback (most recent call last)",
      "Cell \u001b[0;32mIn[21], line 1\u001b[0m\n\u001b[0;32m----> 1\u001b[0m list_4 \u001b[39m=\u001b[39m \u001b[39mlist\u001b[39;49m(\u001b[39m125\u001b[39;49m)\n\u001b[1;32m      2\u001b[0m \u001b[39mprint\u001b[39m(list_4)\n",
      "\u001b[0;31mTypeError\u001b[0m: 'int' object is not iterable"
     ]
    }
   ],
   "source": [
    "list_4 = list(125) # list fonksiyonu icerisine int yazilamaz\n",
    "print(list_4)\n",
    "print(len(list_4))"
   ]
  },
  {
   "cell_type": "code",
   "execution_count": 22,
   "metadata": {},
   "outputs": [
    {
     "ename": "TypeError",
     "evalue": "list expected at most 1 argument, got 2",
     "output_type": "error",
     "traceback": [
      "\u001b[0;31m---------------------------------------------------------------------------\u001b[0m",
      "\u001b[0;31mTypeError\u001b[0m                                 Traceback (most recent call last)",
      "Cell \u001b[0;32mIn[22], line 1\u001b[0m\n\u001b[0;32m----> 1\u001b[0m list_5 \u001b[39m=\u001b[39m \u001b[39mlist\u001b[39;49m(\u001b[39m125\u001b[39;49m, \u001b[39m333\u001b[39;49m) \u001b[39m# list fonksiyonu icerisine int yazilamaz\u001b[39;00m\n\u001b[1;32m      2\u001b[0m \u001b[39mprint\u001b[39m(list_5)\n\u001b[1;32m      3\u001b[0m \u001b[39mprint\u001b[39m(\u001b[39mlen\u001b[39m(list_5))\n",
      "\u001b[0;31mTypeError\u001b[0m: list expected at most 1 argument, got 2"
     ]
    }
   ],
   "source": [
    "list_5 = list(125, 333) # list fonksiyonu (methodu) icerisine tek eleman yazmamiz lazim ve yazdigimiz eleman iterable olmali\n",
    "print(list_5)\n",
    "print(len(list_5))"
   ]
  },
  {
   "cell_type": "code",
   "execution_count": 24,
   "metadata": {},
   "outputs": [
    {
     "name": "stdout",
     "output_type": "stream",
     "text": [
      "[1, 2, 'sedat', False]\n"
     ]
    }
   ],
   "source": [
    "list_6 = list([1, 2, \"sedat\", False])\n",
    "print(list_6)"
   ]
  },
  {
   "cell_type": "code",
   "execution_count": 33,
   "metadata": {},
   "outputs": [
    {
     "name": "stdout",
     "output_type": "stream",
     "text": [
      "[1, 5, 3.14, False, 'Bahadir', [4, 5]]\n",
      "6\n",
      "[4, 5]\n",
      "4\n",
      "h\n",
      ".\n"
     ]
    }
   ],
   "source": [
    "list_7 = [1, 5, 3.14, False, \"Bahadir\", [4, 5]]\n",
    "print(list_7)\n",
    "\n",
    "print(len(list_7))\n",
    "\n",
    "print(list_7[-1])\n",
    "\n",
    "\n",
    "print(list_7[-1][0])\n",
    "\n",
    "print(list_7[4][2])\n",
    "\n",
    "print(str(list_7[2])[1])"
   ]
  },
  {
   "cell_type": "code",
   "execution_count": 35,
   "metadata": {},
   "outputs": [
    {
     "name": "stdout",
     "output_type": "stream",
     "text": [
      "[16, 25, [12, 14, 18], 27, 36]\n",
      "[16, 25, [12, 14, 18], 27, 'bayrak']\n",
      "[16, 25, [12, 14, 18], (27, 28), 'bayrak']\n"
     ]
    }
   ],
   "source": [
    "sayi_listesi = [16, 25, [12, 14, 18], 27, 36]\n",
    "print(sayi_listesi)\n",
    "\n",
    "sayi_listesi[-1] = \"bayrak\"\n",
    "print(sayi_listesi)\n",
    "\n",
    "sayi_listesi[3] = 28, 29\n",
    "print(sayi_listesi)"
   ]
  },
  {
   "cell_type": "code",
   "execution_count": 38,
   "metadata": {},
   "outputs": [
    {
     "name": "stdout",
     "output_type": "stream",
     "text": [
      "[1, 2, 3, 'Usta', 'Silah']\n",
      "[1, False, 1, False, 1, False]\n",
      "6\n"
     ]
    }
   ],
   "source": [
    "print([1,2,3] + [\"Usta\", \"Silah\"])\n",
    "\n",
    "print([1, False] * 3)\n",
    "print(len([1, False] * 3))"
   ]
  },
  {
   "cell_type": "code",
   "execution_count": 41,
   "metadata": {},
   "outputs": [
    {
     "name": "stdout",
     "output_type": "stream",
     "text": [
      "[1, 1, 1, 1, 1, 1, 1, 1, 1, 1]\n",
      "[1, 1, 1, 1, 1]\n",
      "[1, 1, 1, 1, 1, 2, 2, 2, 2, 2]\n"
     ]
    }
   ],
   "source": [
    "list_8 = [1] * 10\n",
    "print(list_8)\n",
    "\n",
    "print(list_8[5:])\n",
    "\n",
    "list_8[5:] = [2] * 5\n",
    "print(list_8)"
   ]
  },
  {
   "cell_type": "code",
   "execution_count": 42,
   "metadata": {},
   "outputs": [
    {
     "name": "stdout",
     "output_type": "stream",
     "text": [
      "[4, 4, 4, 4, 1, 1, 2, 2, 2, 2, 2]\n",
      "[5, 5, 4, 1, 1, 2, 2, 2, 2, 2]\n"
     ]
    }
   ],
   "source": [
    "list_8[:3] = [4] * 4\n",
    "print(list_8)\n",
    "\n",
    "list_8[:3] = [5] * 2\n",
    "print(list_8)"
   ]
  },
  {
   "cell_type": "code",
   "execution_count": 43,
   "metadata": {},
   "outputs": [
    {
     "name": "stdout",
     "output_type": "stream",
     "text": [
      "[5, 5, 5, 5, 5, 5, 5, 5, 5, 5]\n",
      "[1, 2, 5, 5, 5, 5, 5, 5, 5]\n"
     ]
    }
   ],
   "source": [
    "list_9 = [5] * 10\n",
    "print(list_9)\n",
    "\n",
    "list_9[:3] = 1, 2\n",
    "print(list_9 )"
   ]
  },
  {
   "attachments": {},
   "cell_type": "markdown",
   "metadata": {},
   "source": [
    "# Basic Operations With Lists"
   ]
  },
  {
   "attachments": {},
   "cell_type": "markdown",
   "metadata": {},
   "source": [
    "## append()"
   ]
  },
  {
   "cell_type": "code",
   "execution_count": 54,
   "metadata": {},
   "outputs": [
    {
     "name": "stdout",
     "output_type": "stream",
     "text": [
      "[1, 2, 3, 4, 5, 6]\n",
      "[1, 2, 3, 4, 5, 6, [7, 8]]\n"
     ]
    }
   ],
   "source": [
    "sayilar = [1,2,3,4,5]\n",
    "sayilar.append(6)\n",
    "print(sayilar)\n",
    "\n",
    "sayilar.append([7, 8])\n",
    "print(sayilar)"
   ]
  },
  {
   "cell_type": "code",
   "execution_count": 50,
   "metadata": {},
   "outputs": [
    {
     "ename": "TypeError",
     "evalue": "list.append() takes exactly one argument (2 given)",
     "output_type": "error",
     "traceback": [
      "\u001b[0;31m---------------------------------------------------------------------------\u001b[0m",
      "\u001b[0;31mTypeError\u001b[0m                                 Traceback (most recent call last)",
      "Cell \u001b[0;32mIn[50], line 3\u001b[0m\n\u001b[1;32m      1\u001b[0m \u001b[39m# ikisi de hata verir\u001b[39;00m\n\u001b[1;32m      2\u001b[0m sayilar\u001b[39m.\u001b[39mappend(\u001b[39m0\u001b[39m)\n\u001b[0;32m----> 3\u001b[0m sayilar\u001b[39m.\u001b[39;49mappend(\u001b[39m7\u001b[39;49m, \u001b[39m8\u001b[39;49m)\n",
      "\u001b[0;31mTypeError\u001b[0m: list.append() takes exactly one argument (2 given)"
     ]
    }
   ],
   "source": [
    "# ikisi de hata verir\n",
    "sayilar.append(0)\n",
    "sayilar.append(7, 8)"
   ]
  },
  {
   "cell_type": "code",
   "execution_count": 52,
   "metadata": {},
   "outputs": [
    {
     "name": "stdout",
     "output_type": "stream",
     "text": [
      "[1, 2, 3, 4, 5, 6, [7, 8]]\n"
     ]
    }
   ],
   "source": []
  },
  {
   "attachments": {},
   "cell_type": "markdown",
   "metadata": {},
   "source": [
    "## insert()"
   ]
  },
  {
   "cell_type": "code",
   "execution_count": 58,
   "metadata": {},
   "outputs": [
    {
     "name": "stdout",
     "output_type": "stream",
     "text": [
      "[1, 'bukalemun', 4, 9, 16, 25]\n",
      "[1, 'bukalemun', 4, 9, 16, 'papağan', 25]\n",
      "[1, 'bukalemun', 4, 9, 16, 'papağan', 25, 'balık']\n"
     ]
    }
   ],
   "source": [
    "sayilar_2 = [1,4,9,16,25]\n",
    "sayilar_2.insert(1, \"bukalemun\")\n",
    "print(sayilar_2)\n",
    "\n",
    "sayilar_2.insert(-1, \"papağan\")\n",
    "print(sayilar_2)\n",
    "\n",
    "sayilar_2.insert(100, \"balık\")\n",
    "print(sayilar_2)"
   ]
  }
 ],
 "metadata": {
  "kernelspec": {
   "display_name": "Python 3",
   "language": "python",
   "name": "python3"
  },
  "language_info": {
   "codemirror_mode": {
    "name": "ipython",
    "version": 3
   },
   "file_extension": ".py",
   "mimetype": "text/x-python",
   "name": "python",
   "nbconvert_exporter": "python",
   "pygments_lexer": "ipython3",
   "version": "3.11.3"
  },
  "orig_nbformat": 4
 },
 "nbformat": 4,
 "nbformat_minor": 2
}
