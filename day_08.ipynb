{
 "cells": [
  {
   "cell_type": "code",
   "execution_count": null,
   "metadata": {},
   "outputs": [],
   "source": [
    "# stringler, listler >> iterable\n",
    "# int, float, bool >> not iterable\n",
    "\n",
    "# stringler >> immutable\n",
    "# listler >> mutable"
   ]
  },
  {
   "attachments": {},
   "cell_type": "markdown",
   "metadata": {},
   "source": [
    "## remove()"
   ]
  },
  {
   "cell_type": "code",
   "execution_count": 7,
   "metadata": {},
   "outputs": [
    {
     "name": "stdout",
     "output_type": "stream",
     "text": [
      "[7, 6, 5, 4, 3, 2, 1]\n",
      "[7, 6, 5, 4, 2, 1]\n"
     ]
    }
   ],
   "source": [
    "sayilar = [7,6,5,4,3,2,1]\n",
    "print(sayilar)\n",
    "\n",
    "sayilar.remove(3)\n",
    "print(sayilar)"
   ]
  },
  {
   "cell_type": "code",
   "execution_count": 20,
   "metadata": {},
   "outputs": [
    {
     "name": "stdout",
     "output_type": "stream",
     "text": [
      "[1, 2, 3, 3, 3, 4, 5, 6, 6, 6, 7, 8, 8, 8, 9, 9, 9, 9, 9]\n"
     ]
    }
   ],
   "source": [
    "sayilar_2 = [1,2,3,3,3,4,5,6,6,6,7,7,8,8,8,9,9,9,9,9]\n",
    "len(sayilar_2)\n",
    "\n",
    "sayilar_2.remove(7) # ilk gordugunu siler. eger istedigimiz sayi liste icerisinde yoksa hata verir.\n",
    "print(sayilar_2)"
   ]
  },
  {
   "attachments": {},
   "cell_type": "markdown",
   "metadata": {},
   "source": [
    "## sort()"
   ]
  },
  {
   "cell_type": "code",
   "execution_count": 23,
   "metadata": {},
   "outputs": [
    {
     "name": "stdout",
     "output_type": "stream",
     "text": [
      "[1, 2, 2, 3, 3, 3, 4, 5, 5, 6]\n",
      "[6, 5, 5, 4, 3, 3, 3, 2, 2, 1]\n"
     ]
    }
   ],
   "source": [
    "sayilar_3 = [1,2,3,2,5,3,4,5,6,3]\n",
    "sayilar_3.sort()\n",
    "print(sayilar_3)\n",
    "\n",
    "sayilar_3.sort(reverse=True)\n",
    "print(sayilar_3)"
   ]
  },
  {
   "cell_type": "code",
   "execution_count": 24,
   "metadata": {},
   "outputs": [
    {
     "name": "stdout",
     "output_type": "stream",
     "text": [
      "['cuneyt', 'metin', 'murat', 'saffet']\n"
     ]
    }
   ],
   "source": [
    "isimler_1 = [\"saffet\", \"metin\", \"cuneyt\", \"murat\"]\n",
    "isimler_1.sort() # ascii'ye gore siralar\n",
    "print(isimler_1) "
   ]
  },
  {
   "cell_type": "code",
   "execution_count": 25,
   "metadata": {},
   "outputs": [
    {
     "ename": "TypeError",
     "evalue": "'<' not supported between instances of 'str' and 'int'",
     "output_type": "error",
     "traceback": [
      "\u001b[0;31m---------------------------------------------------------------------------\u001b[0m",
      "\u001b[0;31mTypeError\u001b[0m                                 Traceback (most recent call last)",
      "Cell \u001b[0;32mIn[25], line 2\u001b[0m\n\u001b[1;32m      1\u001b[0m ortaya_karisik \u001b[39m=\u001b[39m [\u001b[39m1\u001b[39m,\u001b[39m2\u001b[39m,\u001b[39m3\u001b[39m, \u001b[39m\"\u001b[39m\u001b[39maslan\u001b[39m\u001b[39m\"\u001b[39m, \u001b[39m\"\u001b[39m\u001b[39mkaplan\u001b[39m\u001b[39m\"\u001b[39m]\n\u001b[0;32m----> 2\u001b[0m ortaya_karisik\u001b[39m.\u001b[39;49msort()\n\u001b[1;32m      3\u001b[0m \u001b[39mprint\u001b[39m(ortaya_karisik)\n",
      "\u001b[0;31mTypeError\u001b[0m: '<' not supported between instances of 'str' and 'int'"
     ]
    }
   ],
   "source": [
    "ortaya_karisik = [1,2,3, \"aslan\", \"kaplan\"]  # farkli data tiplerini siralayamayiz\n",
    "ortaya_karisik.sort()\n",
    "print(ortaya_karisik)"
   ]
  },
  {
   "cell_type": "code",
   "execution_count": 27,
   "metadata": {},
   "outputs": [
    {
     "name": "stdout",
     "output_type": "stream",
     "text": [
      "[False, 1, True, 3, 5, 14]\n"
     ]
    }
   ],
   "source": [
    "ortaya_karisik_2 = [1,5,3,14, False, True] # False=0 True=1\n",
    "ortaya_karisik_2.sort()\n",
    "print(ortaya_karisik_2)"
   ]
  },
  {
   "cell_type": "code",
   "execution_count": 28,
   "metadata": {},
   "outputs": [
    {
     "name": "stdout",
     "output_type": "stream",
     "text": [
      "['Mehtap', 'Nazim', 'ahmet', 'taha']\n",
      "['ahmet', 'Mehtap', 'Nazim', 'taha']\n"
     ]
    }
   ],
   "source": [
    "isimler_2 = [\"ahmet\", \"taha\", \"Nazim\", \"Mehtap\"] #ascii tablosunda buyuk harfler once gelir\n",
    "isimler_2.sort()\n",
    "print(isimler_2)\n",
    "\n",
    "\n",
    "isimler_2.sort(key=str.lower)\n",
    "print(isimler_2)"
   ]
  },
  {
   "cell_type": "code",
   "execution_count": 29,
   "metadata": {},
   "outputs": [
    {
     "name": "stdout",
     "output_type": "stream",
     "text": [
      "['Orange', 'Kiwi', 'cherry', 'banana']\n"
     ]
    }
   ],
   "source": [
    "fruits = [\"banana\", \"Orange\", \"Kiwi\", \"cherry\"]\n",
    "fruits.sort(key=str.lower, reverse=1)\n",
    "print(fruits)"
   ]
  },
  {
   "attachments": {},
   "cell_type": "markdown",
   "metadata": {},
   "source": [
    "## pop()"
   ]
  },
  {
   "cell_type": "code",
   "execution_count": 36,
   "metadata": {},
   "outputs": [
    {
     "name": "stdout",
     "output_type": "stream",
     "text": [
      "5\n",
      "9\n",
      "[4, 5, 7, 2, 8, 3, 6]\n"
     ]
    }
   ],
   "source": [
    "sayilar_5 = [4,5,7,2,9,8,3,6,5]\n",
    "print(sayilar_5.pop())  # son degeri siler. sildigi degeri dondurur. remove() sildigi degeri dondurmez.\n",
    "print(sayilar_5.pop(4)) # index'i yazariz.\n",
    "print(sayilar_5)"
   ]
  },
  {
   "attachments": {},
   "cell_type": "markdown",
   "metadata": {},
   "source": [
    "## clear()"
   ]
  },
  {
   "cell_type": "code",
   "execution_count": 37,
   "metadata": {},
   "outputs": [
    {
     "name": "stdout",
     "output_type": "stream",
     "text": [
      "[]\n"
     ]
    }
   ],
   "source": [
    "sayilar_7 = [1,2,3,3,3,4,5,6,6,6,7,7,8,8,8,9,9,9,9,9]\n",
    "sayilar_7.clear()\n",
    "print(sayilar_7)"
   ]
  },
  {
   "cell_type": "code",
   "execution_count": 39,
   "metadata": {},
   "outputs": [
    {
     "ename": "NameError",
     "evalue": "name 'sayilar_9' is not defined",
     "output_type": "error",
     "traceback": [
      "\u001b[0;31m---------------------------------------------------------------------------\u001b[0m",
      "\u001b[0;31mNameError\u001b[0m                                 Traceback (most recent call last)",
      "Cell \u001b[0;32mIn[39], line 3\u001b[0m\n\u001b[1;32m      1\u001b[0m sayilar_9 \u001b[39m=\u001b[39m [\u001b[39m1\u001b[39m,\u001b[39m2\u001b[39m,\u001b[39m3\u001b[39m,\u001b[39m3\u001b[39m,\u001b[39m3\u001b[39m,\u001b[39m4\u001b[39m,\u001b[39m5\u001b[39m,\u001b[39m6\u001b[39m,\u001b[39m6\u001b[39m,\u001b[39m9\u001b[39m,\u001b[39m9\u001b[39m]\n\u001b[1;32m      2\u001b[0m \u001b[39mdel\u001b[39;00m sayilar_9\n\u001b[0;32m----> 3\u001b[0m \u001b[39mdel\u001b[39;00m(sayilar_9)\n\u001b[1;32m      4\u001b[0m \u001b[39mprint\u001b[39m(sayilar_9)\n",
      "\u001b[0;31mNameError\u001b[0m: name 'sayilar_9' is not defined"
     ]
    }
   ],
   "source": [
    "sayilar_9 = [1,2,3,3,3,4,5,6,6,9,9]\n",
    "del sayilar_9 # veya del(sayilar_9)\n",
    "print(sayilar_9) # tamamen siler, bir sey yazdiramaz ve hata verir"
   ]
  },
  {
   "attachments": {},
   "cell_type": "markdown",
   "metadata": {},
   "source": [
    "## count()"
   ]
  },
  {
   "cell_type": "code",
   "execution_count": 45,
   "metadata": {},
   "outputs": [
    {
     "name": "stdout",
     "output_type": "stream",
     "text": [
      "6\n",
      "0\n"
     ]
    }
   ],
   "source": [
    "sayilar_10 = [1,4,5,3,6,8,4,4,4,4,7,9,5,32,0,0,4]\n",
    "print(sayilar_10.count(4)) # listede kac tane 4 oldugunu dondurur\n",
    "print(sayilar_10.count(99))"
   ]
  },
  {
   "cell_type": "code",
   "execution_count": 46,
   "metadata": {},
   "outputs": [
    {
     "name": "stdout",
     "output_type": "stream",
     "text": [
      "3\n"
     ]
    }
   ],
   "source": [
    "aa = (False, False, True, 1, 3, 0, 2)\n",
    "print(aa.count(0))  # False=0 True=1"
   ]
  },
  {
   "attachments": {},
   "cell_type": "markdown",
   "metadata": {},
   "source": [
    "## extend()"
   ]
  },
  {
   "cell_type": "code",
   "execution_count": 50,
   "metadata": {},
   "outputs": [
    {
     "name": "stdout",
     "output_type": "stream",
     "text": [
      "[1, 2, 3, 4, 5]\n",
      "[1, 2, 3, 4, 5, [6, 7]]\n",
      "[1, 2, 3, 4, 5, [6, 7], 7, 8, 9]\n",
      "[1, 2, 3, 4, 5, [6, 7], 7, 8, 9, 'A', 'n', 'k', 'a', 'r', 'a']\n"
     ]
    }
   ],
   "source": [
    "sayi_listesi = [1,2,3,4]\n",
    "sayi_listesi.append(5)\n",
    "print(sayi_listesi)\n",
    "\n",
    "sayi_listesi.append([6,7])\n",
    "print(sayi_listesi)\n",
    "\n",
    "sayi_listesi.extend([7,8,9])\n",
    "print(sayi_listesi)\n",
    "\n",
    "sayi_listesi.extend(\"Ankara\")\n",
    "print(sayi_listesi)"
   ]
  },
  {
   "cell_type": "code",
   "execution_count": 51,
   "metadata": {},
   "outputs": [
    {
     "ename": "TypeError",
     "evalue": "'int' object is not iterable",
     "output_type": "error",
     "traceback": [
      "\u001b[0;31m---------------------------------------------------------------------------\u001b[0m",
      "\u001b[0;31mTypeError\u001b[0m                                 Traceback (most recent call last)",
      "Cell \u001b[0;32mIn[51], line 1\u001b[0m\n\u001b[0;32m----> 1\u001b[0m sayi_listesi\u001b[39m.\u001b[39;49mextend(\u001b[39m10\u001b[39;49m) \u001b[39m# hata verir. girilen deger iterable olmak zorundadir\u001b[39;00m\n\u001b[1;32m      2\u001b[0m \u001b[39mprint\u001b[39m(sayi_listesi)\n",
      "\u001b[0;31mTypeError\u001b[0m: 'int' object is not iterable"
     ]
    }
   ],
   "source": [
    "sayi_listesi.extend(10) # hata verir. girilen deger iterable olmak zorundadir\n",
    "print(sayi_listesi)"
   ]
  },
  {
   "attachments": {},
   "cell_type": "markdown",
   "metadata": {},
   "source": [
    "## join()"
   ]
  },
  {
   "cell_type": "code",
   "execution_count": 55,
   "metadata": {},
   "outputs": [
    {
     "name": "stdout",
     "output_type": "stream",
     "text": [
      "ankaraizmiristanbulbursa\n",
      "ankara*izmir*istanbul*bursa\n"
     ]
    }
   ],
   "source": [
    "sehirler =[\"ankara\", \"izmir\", \"istanbul\", \"bursa\"]\n",
    "print(\"\".join(sehirler))\n",
    "print(\"*\".join(sehirler))"
   ]
  }
 ],
 "metadata": {
  "kernelspec": {
   "display_name": "Python 3",
   "language": "python",
   "name": "python3"
  },
  "language_info": {
   "codemirror_mode": {
    "name": "ipython",
    "version": 3
   },
   "file_extension": ".py",
   "mimetype": "text/x-python",
   "name": "python",
   "nbconvert_exporter": "python",
   "pygments_lexer": "ipython3",
   "version": "3.11.3"
  },
  "orig_nbformat": 4
 },
 "nbformat": 4,
 "nbformat_minor": 2
}
