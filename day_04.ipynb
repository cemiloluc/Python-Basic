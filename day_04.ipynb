{
 "cells": [
  {
   "cell_type": "code",
   "execution_count": 1,
   "metadata": {},
   "outputs": [
    {
     "name": "stdout",
     "output_type": "stream",
     "text": [
      "0.0058309037900874635\n"
     ]
    }
   ],
   "source": [
    "# kullanicidan kilo ve boy bilgilerini alan ve girilen bilgilere gore vucut kitle inkeksini hesaplayan kodu yaziniz\n",
    "\n",
    "kilo = float(input(\"lutfen kilonuzu kg cinsinden giriniz\"))\n",
    "boy = float(input(\"lutfen boyunuzu metre cinsinden giriniz\"))\n",
    "\n",
    "vucudKitleIndeksi = kilo / boy**2\n",
    "print(vucudKitleIndeksi)"
   ]
  },
  {
   "attachments": {},
   "cell_type": "markdown",
   "metadata": {},
   "source": [
    "## Escape Sequences"
   ]
  },
  {
   "cell_type": "code",
   "execution_count": null,
   "metadata": {},
   "outputs": [
    {
     "name": "stdout",
     "output_type": "stream",
     "text": [
      "I'm a python student\n"
     ]
    }
   ],
   "source": [
    "print('I\\'m a python student')"
   ]
  },
  {
   "cell_type": "code",
   "execution_count": null,
   "metadata": {},
   "outputs": [
    {
     "name": "stdout",
     "output_type": "stream",
     "text": [
      "I\"m a python student\n"
     ]
    }
   ],
   "source": [
    "print(\"I\\\"m a python student\")"
   ]
  },
  {
   "cell_type": "code",
   "execution_count": null,
   "metadata": {},
   "outputs": [
    {
     "name": "stdout",
     "output_type": "stream",
     "text": [
      "slack için \n",
      "internet\n"
     ]
    }
   ],
   "source": [
    "print(\"slack için \\ninternet\")  # \\n bir alt satira gecirir"
   ]
  },
  {
   "cell_type": "code",
   "execution_count": null,
   "metadata": {},
   "outputs": [
    {
     "name": "stdout",
     "output_type": "stream",
     "text": [
      "apple techpro oppo\n",
      "apple\ttechpro\toppo\n"
     ]
    }
   ],
   "source": [
    "print(\"apple\", \"techpro\", \"oppo\")\n",
    "print(\"apple\", \"techpro\", \"oppo\",  sep=\"\\t\") # \\t TAB kadar bosluk birakir"
   ]
  },
  {
   "cell_type": "code",
   "execution_count": 2,
   "metadata": {},
   "outputs": [
    {
     "name": "stdout",
     "output_type": "stream",
     "text": [
      "slack için\t internet\n"
     ]
    }
   ],
   "source": [
    "print(\"slack için \\tinternet\")"
   ]
  },
  {
   "cell_type": "code",
   "execution_count": null,
   "metadata": {},
   "outputs": [
    {
     "name": "stdout",
     "output_type": "stream",
     "text": [
      "appltechproppo\n",
      "apptechpoppo\n",
      "appltechpropp"
     ]
    }
   ],
   "source": [
    "print(\"apple\", \"techpro\", \"oppo\",  sep=\"\\b\")\n",
    "print(\"apple\", \"techpro\", \"oppo\",  sep=\"\\b\\b\")\n",
    "print(\"apple\", \"techpro\", \"oppo\",  sep=\"\\b\", end=\"\\b\")"
   ]
  },
  {
   "cell_type": "code",
   "execution_count": null,
   "metadata": {},
   "outputs": [
    {
     "name": "stdout",
     "output_type": "stream",
     "text": [
      "Aslan Akbe\n"
     ]
    }
   ],
   "source": [
    "name = \"Aslan Akbey\\b\"\n",
    "print(name)"
   ]
  },
  {
   "cell_type": "code",
   "execution_count": null,
   "metadata": {},
   "outputs": [
    {
     "name": "stdout",
     "output_type": "stream",
     "text": [
      "Ben bu satirin bir \\nalt satira gececegini dusunuyorum\n"
     ]
    }
   ],
   "source": [
    "print(r\"Ben bu satirin bir \\nalt satira gececegini dusunuyorum\") # r Escape Sequences'leri devreden cikarir"
   ]
  },
  {
   "attachments": {},
   "cell_type": "markdown",
   "metadata": {},
   "source": [
    "## round()"
   ]
  },
  {
   "cell_type": "code",
   "execution_count": null,
   "metadata": {},
   "outputs": [
    {
     "name": "stdout",
     "output_type": "stream",
     "text": [
      "14\n",
      "12\n"
     ]
    }
   ],
   "source": [
    "print(round(13.8))\n",
    "print(round(12.1))"
   ]
  },
  {
   "cell_type": "code",
   "execution_count": null,
   "metadata": {},
   "outputs": [
    {
     "name": "stdout",
     "output_type": "stream",
     "text": [
      "3\n"
     ]
    }
   ],
   "source": [
    "pi = 3.14\n",
    "print(round(pi))"
   ]
  },
  {
   "cell_type": "code",
   "execution_count": null,
   "metadata": {},
   "outputs": [
    {
     "name": "stdout",
     "output_type": "stream",
     "text": [
      "12\n",
      "12\n",
      "14\n",
      "-12\n",
      "-14\n"
     ]
    }
   ],
   "source": [
    "print(round(11.5))\n",
    "print(round(12.5)) # x.5 ise en yakin cift sayiya yuvarlar\n",
    "print(round(13.5))\n",
    "\n",
    "print(round(-12.5))\n",
    "print(round(-13.5))"
   ]
  },
  {
   "cell_type": "code",
   "execution_count": null,
   "metadata": {},
   "outputs": [
    {
     "name": "stdout",
     "output_type": "stream",
     "text": [
      "13.6\n",
      "28.46\n"
     ]
    }
   ],
   "source": [
    "print(round(13.566, 1))\n",
    "\n",
    "print(round(28.4556, 2))"
   ]
  },
  {
   "cell_type": "code",
   "execution_count": 3,
   "metadata": {},
   "outputs": [
    {
     "name": "stdout",
     "output_type": "stream",
     "text": [
      "100\n",
      "200\n",
      "200\n"
     ]
    }
   ],
   "source": [
    "print(round(140, -2))  # 2 basamak sola gider oyle yuvarlar\n",
    "print(round(150, -2))\n",
    "print(round(160, -2))"
   ]
  },
  {
   "attachments": {},
   "cell_type": "markdown",
   "metadata": {},
   "source": [
    "## Comparison Operators"
   ]
  },
  {
   "cell_type": "code",
   "execution_count": null,
   "metadata": {},
   "outputs": [
    {
     "name": "stdout",
     "output_type": "stream",
     "text": [
      "True\n",
      "False\n",
      "True\n",
      "True\n"
     ]
    }
   ],
   "source": [
    "print(5>4)\n",
    "print(6<2)\n",
    "\n",
    "print(7==7)\n",
    "print(8!=9)"
   ]
  },
  {
   "cell_type": "code",
   "execution_count": null,
   "metadata": {},
   "outputs": [
    {
     "name": "stdout",
     "output_type": "stream",
     "text": [
      "False\n",
      "True\n"
     ]
    }
   ],
   "source": [
    "x = \"techpro\" > \"edu\"\n",
    "y = \"techpro\" < \"edu\"\n",
    "                        # ASCII tablosuna gore degerlendirir. karakterler ayni ise bir diger karaktere gore karsilastirir\n",
    "print(x)\n",
    "print(y)"
   ]
  },
  {
   "cell_type": "code",
   "execution_count": null,
   "metadata": {},
   "outputs": [
    {
     "name": "stdout",
     "output_type": "stream",
     "text": [
      "d\n",
      "఻\n",
      "100\n",
      "110\n",
      "97\n"
     ]
    }
   ],
   "source": [
    "# ASCII tablosunun degerlerini ogrenmek icin\n",
    "print(chr(100))\n",
    "print(chr(3131))\n",
    "print(ord(\"d\"))\n",
    "print(ord(\"n\"))\n",
    "print(ord(\"a\"))"
   ]
  },
  {
   "attachments": {},
   "cell_type": "markdown",
   "metadata": {},
   "source": [
    "## Boolean"
   ]
  },
  {
   "cell_type": "code",
   "execution_count": 5,
   "metadata": {},
   "outputs": [
    {
     "name": "stdout",
     "output_type": "stream",
     "text": [
      "True\n",
      "True\n",
      "True\n",
      "\n",
      "\n",
      "False\n",
      "False\n",
      "\n",
      "\n",
      "False\n",
      "False\n",
      "False\n",
      "False\n"
     ]
    }
   ],
   "source": [
    "print(bool(\"techpro education\"))\n",
    "print(bool(125))\n",
    "print(bool(\" \"))\n",
    "print(\"\\n\")\n",
    "print(bool(\"\"))                 # icerde deger varsa True yoksa False\n",
    "print(bool())\n",
    "print(\"\\n\")\n",
    "print(bool(\"\"\"\"\"\"))\n",
    "print(bool(0))\n",
    "print(bool(None))\n",
    "print(bool([]))"
   ]
  }
 ],
 "metadata": {
  "kernelspec": {
   "display_name": "Python 3",
   "language": "python",
   "name": "python3"
  },
  "language_info": {
   "codemirror_mode": {
    "name": "ipython",
    "version": 3
   },
   "file_extension": ".py",
   "mimetype": "text/x-python",
   "name": "python",
   "nbconvert_exporter": "python",
   "pygments_lexer": "ipython3",
   "version": "3.11.3"
  },
  "orig_nbformat": 4
 },
 "nbformat": 4,
 "nbformat_minor": 2
}
